{
 "cells": [
  {
   "cell_type": "markdown",
   "metadata": {},
   "source": [
    "#  Week #5  -  Python Practice"
   ]
  },
  {
   "cell_type": "raw",
   "metadata": {},
   "source": [
    "“Why Would You Want to Do That?”\n",
    "\n",
    "Sometimes in the data science universe you are asked to do something that just doesn't make sense to you.  Sometimes your organizational overlords or their minions need some data from you the use of which isn't at all obvious.   But yours is to do.  (While always being careful about asking “Why?”)\n",
    "\n",
    "In what follows we're going to use the json format more (you're going to write a json data file) and to do some more data merging.  And along the way we're going to change the data type of some variables.  \n",
    "\n",
    "Your mission in this Practice, if you decide to accept it, is as follows. \n",
    "\n",
    "XYZ's marketing department has a lead on a soon to be available new product they are thinking they might sell.  It's a new kind of electronic dog or cat washer that will also scent your pet with a desired fragrance, like pumpkin pie spice, vanilla, cheddar, or BBQ.  They are thinking they should test the idea with XYZ customers to see what their level of interest might be.  The marketing department wants you to provide them a json data set so they can invite customers to take a short concept testing survey.\n",
    "\n",
    "The data set is to include all XYZ customers you have data on, and the Experian data on whether each is a dog and/or cat “enthusiast.”  These Experian variables are ZDOGS and ZCATS, and they are coded Y=”Living unit has a known dog enthusiast,” and U=”Unknown.”  There may be some missing values on these variables.  Your data set is to include the value labels on these variables, e.g. “Unknown,” not just the Y and U codes.  Include the ACCTNO customer identifier in the data, and also the channel through which each customer first became an XYZ customer, “CHANNEL_ACQUISITION.”  The codes and their labels for this last variable are:  CB=Catalog, IB=Internet, RT=Retail.  Include the labels for these codes in the data for the XYZ marketing folks, too. \n",
    "\n",
    "To get started, crank up your Canopy, and import pandas (as pd), numpy (as np, right?), and SQLAlchemy.  You'll want the latter if you saved your results from the last Practice in a SQLite3 DB.  From pandas import DataFrame, Series, too. \n",
    "\n",
    "You're going to need the custZData you worked with in the last session.  You saved it somewhere, didn't you?  Now's the time to load it back into your Canopy session.  How you do this depends on how you saved it, of course.\n",
    "\n",
    "The kind of merges you're going to do are of the “one-to-many” sort: you're going to join each reacord in one DataFrame with multiple records (rows) in another DataFrame. \n",
    "\n",
    "In addition to your custZData data, you're going to need to have the variable codes and labels  in a format you can merge with what's in custZData.  Let's make a couple of small DataFrames for this by putting the codes and labels into dicts, and then converting the dicts into DataFrames.  Here's how to do it for the customer channel of acquisition codes:\n"
   ]
  },
  {
   "cell_type": "code",
   "execution_count": 1,
   "metadata": {
    "collapsed": false
   },
   "outputs": [],
   "source": [
    "import os\n",
    "\n",
    "import cPickle as pickle\n",
    "\n",
    "import pandas as pd  # panda's nickname is pd\n",
    "\n",
    "import numpy as np  # numpy as np\n",
    "\n",
    "import sqlalchemy\n",
    "\n",
    "from pandas import DataFrame, Series     # for convenience\n",
    "from sqlalchemy import create_engine\n",
    "from sqlalchemy import schema\n"
   ]
  },
  {
   "cell_type": "code",
   "execution_count": 2,
   "metadata": {
    "collapsed": false
   },
   "outputs": [],
   "source": [
    "chanCode={'CHANNEL_ACQUISITION': Series(['CB','IB','RT'], index=[range(3)]), \n",
    "          'CHAN_LAB' : Series(['Catalog','Internet','Retail'], index =[range(3)])}"
   ]
  },
  {
   "cell_type": "raw",
   "metadata": {},
   "source": [
    "then"
   ]
  },
  {
   "cell_type": "code",
   "execution_count": 3,
   "metadata": {
    "collapsed": false
   },
   "outputs": [],
   "source": [
    "chanFrame=DataFrame(chanCode)"
   ]
  },
  {
   "cell_type": "raw",
   "metadata": {},
   "source": [
    "should give you something that looks like:"
   ]
  },
  {
   "cell_type": "code",
   "execution_count": 4,
   "metadata": {
    "collapsed": false
   },
   "outputs": [
    {
     "data": {
      "text/html": [
       "<div>\n",
       "<table border=\"1\" class=\"dataframe\">\n",
       "  <thead>\n",
       "    <tr style=\"text-align: right;\">\n",
       "      <th></th>\n",
       "      <th>CHANNEL_ACQUISITION</th>\n",
       "      <th>CHAN_LAB</th>\n",
       "    </tr>\n",
       "  </thead>\n",
       "  <tbody>\n",
       "    <tr>\n",
       "      <th>0</th>\n",
       "      <td>CB</td>\n",
       "      <td>Catalog</td>\n",
       "    </tr>\n",
       "    <tr>\n",
       "      <th>1</th>\n",
       "      <td>IB</td>\n",
       "      <td>Internet</td>\n",
       "    </tr>\n",
       "    <tr>\n",
       "      <th>2</th>\n",
       "      <td>RT</td>\n",
       "      <td>Retail</td>\n",
       "    </tr>\n",
       "  </tbody>\n",
       "</table>\n",
       "</div>"
      ],
      "text/plain": [
       "  CHANNEL_ACQUISITION  CHAN_LAB\n",
       "0                  CB   Catalog\n",
       "1                  IB  Internet\n",
       "2                  RT    Retail"
      ]
     },
     "execution_count": 4,
     "metadata": {},
     "output_type": "execute_result"
    }
   ],
   "source": [
    "chanFrame"
   ]
  },
  {
   "cell_type": "raw",
   "metadata": {},
   "source": [
    "Note that the leftmost column is the index of this DataFrame. We assigned its values using the range function, range(3), above."
   ]
  },
  {
   "cell_type": "raw",
   "metadata": {},
   "source": [
    "Now do the same thing for the variables ZDOGS and ZCATS so that you end up with a dogFrame and a catFrame.  Call the label variables in these data frames DOGHOUSE and CATHOUSE, respectively.  You should end up with DataFrames that look like the following:"
   ]
  },
  {
   "cell_type": "code",
   "execution_count": 5,
   "metadata": {
    "collapsed": false
   },
   "outputs": [
    {
     "data": {
      "text/html": [
       "<div>\n",
       "<table border=\"1\" class=\"dataframe\">\n",
       "  <thead>\n",
       "    <tr style=\"text-align: right;\">\n",
       "      <th></th>\n",
       "      <th>DOGHOUSE</th>\n",
       "      <th>ZDOGS</th>\n",
       "    </tr>\n",
       "  </thead>\n",
       "  <tbody>\n",
       "    <tr>\n",
       "      <th>0</th>\n",
       "      <td>Dog enthusiast residence</td>\n",
       "      <td>Y</td>\n",
       "    </tr>\n",
       "    <tr>\n",
       "      <th>1</th>\n",
       "      <td>Unknown</td>\n",
       "      <td>U</td>\n",
       "    </tr>\n",
       "  </tbody>\n",
       "</table>\n",
       "</div>"
      ],
      "text/plain": [
       "                   DOGHOUSE ZDOGS\n",
       "0  Dog enthusiast residence     Y\n",
       "1                   Unknown     U"
      ]
     },
     "execution_count": 5,
     "metadata": {},
     "output_type": "execute_result"
    }
   ],
   "source": [
    "dogCode={'DOGHOUSE': Series(['Dog enthusiast residence','Unknown'], index=[range(2)]), \n",
    "          'ZDOGS' : Series(['Y','U'], index =[range(2)])}\n",
    "\n",
    "dogFrame=DataFrame(dogCode)\n",
    "\n",
    "dogFrame"
   ]
  },
  {
   "cell_type": "code",
   "execution_count": 6,
   "metadata": {
    "collapsed": false
   },
   "outputs": [
    {
     "data": {
      "text/html": [
       "<div>\n",
       "<table border=\"1\" class=\"dataframe\">\n",
       "  <thead>\n",
       "    <tr style=\"text-align: right;\">\n",
       "      <th></th>\n",
       "      <th>CATHOUSE</th>\n",
       "      <th>ZCATS</th>\n",
       "    </tr>\n",
       "  </thead>\n",
       "  <tbody>\n",
       "    <tr>\n",
       "      <th>0</th>\n",
       "      <td>Cat enthusiast residence</td>\n",
       "      <td>Y</td>\n",
       "    </tr>\n",
       "    <tr>\n",
       "      <th>1</th>\n",
       "      <td>Unknown</td>\n",
       "      <td>U</td>\n",
       "    </tr>\n",
       "  </tbody>\n",
       "</table>\n",
       "</div>"
      ],
      "text/plain": [
       "                   CATHOUSE ZCATS\n",
       "0  Cat enthusiast residence     Y\n",
       "1                   Unknown     U"
      ]
     },
     "execution_count": 6,
     "metadata": {},
     "output_type": "execute_result"
    }
   ],
   "source": [
    "catCode={'CATHOUSE': Series(['Cat enthusiast residence','Unknown'], index=[range(2)]), \n",
    "          'ZCATS' : Series(['Y','U'], index =[range(2)])}\n",
    "\n",
    "catFrame=DataFrame(catCode)\n",
    "\n",
    "catFrame"
   ]
  },
  {
   "cell_type": "raw",
   "metadata": {},
   "source": [
    "Next, let's get the variables out of custZData that we're going to include in your new json data file:"
   ]
  },
  {
   "cell_type": "code",
   "execution_count": 7,
   "metadata": {
    "collapsed": false
   },
   "outputs": [],
   "source": [
    "engine=create_engine('sqlite:///xyz.db')\n",
    "\n",
    "xyzcust=pd.read_sql_table('xyzcust',engine)\n",
    "\n",
    "zdata=pd.read_json('zdata.json',orient='index')\n",
    "\n",
    "custZData=pd.merge(xyzcust,zdata,on='ACCTNO')\n",
    "\n",
    "# Get the PETS now ...\n",
    "custPets=custZData[['ACCTNO','CHANNEL_ACQUISITION','ZDOGS','ZCATS']]\n",
    "\n"
   ]
  },
  {
   "cell_type": "raw",
   "metadata": {},
   "source": [
    "custPets should have len(custZData) rows, and four columns.  Don't forget to use [[ and ]] in the above.\n",
    "\n",
    "How many dog and cat enthusiasts do you think there are amongst XYZ's customers? Apparently there are dog enthusiasts:\n"
   ]
  },
  {
   "cell_type": "code",
   "execution_count": 8,
   "metadata": {
    "collapsed": false
   },
   "outputs": [
    {
     "data": {
      "text/plain": [
       "U    24730\n",
       "Y     2878\n",
       "Name: ZDOGS, dtype: int64"
      ]
     },
     "execution_count": 8,
     "metadata": {},
     "output_type": "execute_result"
    }
   ],
   "source": [
    "custPets.ZDOGS.value_counts()"
   ]
  },
  {
   "cell_type": "raw",
   "metadata": {},
   "source": [
    "Are there any missing values in ZDOGS?  There are:"
   ]
  },
  {
   "cell_type": "code",
   "execution_count": 9,
   "metadata": {
    "collapsed": false
   },
   "outputs": [
    {
     "data": {
      "text/plain": [
       "2571"
      ]
     },
     "execution_count": 9,
     "metadata": {},
     "output_type": "execute_result"
    }
   ],
   "source": [
    "custPets.ZDOGS.isnull().sum()"
   ]
  },
  {
   "cell_type": "raw",
   "metadata": {},
   "source": [
    "Yes, indeed, there are.\n",
    "\n",
    "Do the above checks for ZCATS."
   ]
  },
  {
   "cell_type": "code",
   "execution_count": 10,
   "metadata": {
    "collapsed": false
   },
   "outputs": [
    {
     "data": {
      "text/plain": [
       "2571"
      ]
     },
     "execution_count": 10,
     "metadata": {},
     "output_type": "execute_result"
    }
   ],
   "source": [
    "custPets.ZCATS.isnull().sum()"
   ]
  },
  {
   "cell_type": "raw",
   "metadata": {},
   "source": [
    "OK, so now we're ready to do some merging.  We have three DataFrames, custPets, dogFrame, and catFrame.  We can do these two at a time, like:"
   ]
  },
  {
   "cell_type": "code",
   "execution_count": 11,
   "metadata": {
    "collapsed": false
   },
   "outputs": [],
   "source": [
    "dMarketingFrame=pd.merge(custPets,dogFrame,on='ZDOGS')"
   ]
  },
  {
   "cell_type": "raw",
   "metadata": {},
   "source": [
    "This puts the dog information in, and:"
   ]
  },
  {
   "cell_type": "code",
   "execution_count": 12,
   "metadata": {
    "collapsed": false
   },
   "outputs": [],
   "source": [
    "cdMarketingFrame=pd.merge(dMarketingFrame,catFrame,on='ZCATS')"
   ]
  },
  {
   "cell_type": "raw",
   "metadata": {},
   "source": [
    "puts the cat information in.  cdMarketingFrame is the data set we want to write out as a json file. \n",
    "\n",
    "How many XYZ customers are both cat and dog enthusiasts?  \n"
   ]
  },
  {
   "cell_type": "code",
   "execution_count": 13,
   "metadata": {
    "collapsed": false
   },
   "outputs": [
    {
     "data": {
      "text/plain": [
       "786"
      ]
     },
     "execution_count": 13,
     "metadata": {},
     "output_type": "execute_result"
    }
   ],
   "source": [
    "((cdMarketingFrame.ZCATS=='Y') & (cdMarketingFrame.ZDOGS=='Y')).sum()"
   ]
  },
  {
   "cell_type": "raw",
   "metadata": {},
   "source": [
    "We're going to write our custPets DataFrame out to a json file, but before we do, here's something to take a look at.  Did you check to see how many rows (customers, that is), there are in cdMarketingFrame?  The same number as there are in custZData, or fewer?  "
   ]
  },
  {
   "cell_type": "code",
   "execution_count": 14,
   "metadata": {
    "collapsed": false
   },
   "outputs": [
    {
     "data": {
      "text/plain": [
       "(27608, 6)"
      ]
     },
     "execution_count": 14,
     "metadata": {},
     "output_type": "execute_result"
    }
   ],
   "source": [
    "cdMarketingFrame.shape"
   ]
  },
  {
   "cell_type": "code",
   "execution_count": 15,
   "metadata": {
    "collapsed": false
   },
   "outputs": [
    {
     "data": {
      "text/html": [
       "<div>\n",
       "<table border=\"1\" class=\"dataframe\">\n",
       "  <thead>\n",
       "    <tr style=\"text-align: right;\">\n",
       "      <th></th>\n",
       "      <th>ACCTNO</th>\n",
       "      <th>CHANNEL_ACQUISITION</th>\n",
       "      <th>ZDOGS</th>\n",
       "      <th>ZCATS</th>\n",
       "      <th>DOGHOUSE</th>\n",
       "      <th>CATHOUSE</th>\n",
       "    </tr>\n",
       "  </thead>\n",
       "  <tbody>\n",
       "    <tr>\n",
       "      <th>0</th>\n",
       "      <td>WDQQLLDQL</td>\n",
       "      <td>IB</td>\n",
       "      <td>Y</td>\n",
       "      <td>U</td>\n",
       "      <td>Dog enthusiast residence</td>\n",
       "      <td>Unknown</td>\n",
       "    </tr>\n",
       "    <tr>\n",
       "      <th>1</th>\n",
       "      <td>AGDDPGGQP</td>\n",
       "      <td>RT</td>\n",
       "      <td>Y</td>\n",
       "      <td>U</td>\n",
       "      <td>Dog enthusiast residence</td>\n",
       "      <td>Unknown</td>\n",
       "    </tr>\n",
       "    <tr>\n",
       "      <th>2</th>\n",
       "      <td>WLDAYHQLW</td>\n",
       "      <td>RT</td>\n",
       "      <td>Y</td>\n",
       "      <td>U</td>\n",
       "      <td>Dog enthusiast residence</td>\n",
       "      <td>Unknown</td>\n",
       "    </tr>\n",
       "    <tr>\n",
       "      <th>3</th>\n",
       "      <td>HWPPYQWS</td>\n",
       "      <td>RT</td>\n",
       "      <td>Y</td>\n",
       "      <td>U</td>\n",
       "      <td>Dog enthusiast residence</td>\n",
       "      <td>Unknown</td>\n",
       "    </tr>\n",
       "    <tr>\n",
       "      <th>4</th>\n",
       "      <td>APAHLSLPD</td>\n",
       "      <td>RT</td>\n",
       "      <td>Y</td>\n",
       "      <td>U</td>\n",
       "      <td>Dog enthusiast residence</td>\n",
       "      <td>Unknown</td>\n",
       "    </tr>\n",
       "  </tbody>\n",
       "</table>\n",
       "</div>"
      ],
      "text/plain": [
       "      ACCTNO CHANNEL_ACQUISITION ZDOGS ZCATS                  DOGHOUSE  \\\n",
       "0  WDQQLLDQL                  IB     Y     U  Dog enthusiast residence   \n",
       "1  AGDDPGGQP                  RT     Y     U  Dog enthusiast residence   \n",
       "2  WLDAYHQLW                  RT     Y     U  Dog enthusiast residence   \n",
       "3   HWPPYQWS                  RT     Y     U  Dog enthusiast residence   \n",
       "4  APAHLSLPD                  RT     Y     U  Dog enthusiast residence   \n",
       "\n",
       "  CATHOUSE  \n",
       "0  Unknown  \n",
       "1  Unknown  \n",
       "2  Unknown  \n",
       "3  Unknown  \n",
       "4  Unknown  "
      ]
     },
     "execution_count": 15,
     "metadata": {},
     "output_type": "execute_result"
    }
   ],
   "source": [
    "cdMarketingFrame.head()"
   ]
  },
  {
   "cell_type": "code",
   "execution_count": 16,
   "metadata": {
    "collapsed": false
   },
   "outputs": [
    {
     "data": {
      "text/plain": [
       "27608"
      ]
     },
     "execution_count": 16,
     "metadata": {},
     "output_type": "execute_result"
    }
   ],
   "source": [
    "len(cdMarketingFrame)"
   ]
  },
  {
   "cell_type": "code",
   "execution_count": 17,
   "metadata": {
    "collapsed": false
   },
   "outputs": [
    {
     "data": {
      "text/plain": [
       "(30179, 142)"
      ]
     },
     "execution_count": 17,
     "metadata": {},
     "output_type": "execute_result"
    }
   ],
   "source": [
    "custZData.shape"
   ]
  },
  {
   "cell_type": "raw",
   "metadata": {},
   "source": [
    "\n",
    "Oops.  You lost some customers!  Marketing won't be pleased.  How did that happen?  Well, there were missing data in the ZDOGS and ZCATS variables.  Try:"
   ]
  },
  {
   "cell_type": "code",
   "execution_count": 18,
   "metadata": {
    "collapsed": false
   },
   "outputs": [
    {
     "data": {
      "text/plain": [
       "U      25918\n",
       "NaN     2571\n",
       "Y       1690\n",
       "Name: ZCATS, dtype: int64"
      ]
     },
     "execution_count": 18,
     "metadata": {},
     "output_type": "execute_result"
    }
   ],
   "source": [
    "custPets.ZCATS.value_counts(dropna=False)"
   ]
  },
  {
   "cell_type": "code",
   "execution_count": 19,
   "metadata": {
    "collapsed": false
   },
   "outputs": [
    {
     "data": {
      "text/plain": [
       "U    25918\n",
       "Y     1690\n",
       "Name: ZCATS, dtype: int64"
      ]
     },
     "execution_count": 19,
     "metadata": {},
     "output_type": "execute_result"
    }
   ],
   "source": [
    "custPets.ZCATS.value_counts()"
   ]
  },
  {
   "cell_type": "code",
   "execution_count": 20,
   "metadata": {
    "collapsed": false
   },
   "outputs": [
    {
     "data": {
      "text/plain": [
       "30179"
      ]
     },
     "execution_count": 20,
     "metadata": {},
     "output_type": "execute_result"
    }
   ],
   "source": [
    "len(custPets)"
   ]
  },
  {
   "cell_type": "raw",
   "metadata": {},
   "source": [
    "So when you joined the DataFrames, these observations were lost.  The reason is that the merge method you used was an inner join.  To include all the customers in custZData in the file you send to XYZ marketing, do a left outer join instead, like:"
   ]
  },
  {
   "cell_type": "code",
   "execution_count": 21,
   "metadata": {
    "collapsed": false
   },
   "outputs": [],
   "source": [
    "dMarketingFrame2=pd.merge(custPets,dogFrame,on='ZDOGS', how='left')"
   ]
  },
  {
   "cell_type": "code",
   "execution_count": 22,
   "metadata": {
    "collapsed": false
   },
   "outputs": [],
   "source": [
    "cdMarketingFrame2=pd.merge(dMarketingFrame2,catFrame,on='ZCATS', how='left')\n"
   ]
  },
  {
   "cell_type": "raw",
   "metadata": {},
   "source": [
    "By the way, if your computer is beginning to respond a little more slowly to your commands, it may be because you have a lot of Python objects in RAM.  You can delete those you don't need with the del command.  You can delete multiple objects with a single command.  Just separate their names with commas.  Be careful not to delete something you need.\n",
    "\n",
    "Now someone in marketing might reasonably ask you “Missing versus 'Unknown?'”  What's the difference, really?”  So if that marketing person (or perhaps your boss) insisted, you could convert those missing values to be 'U's' and join your data sets all over again.  For example,\n"
   ]
  },
  {
   "cell_type": "code",
   "execution_count": 23,
   "metadata": {
    "collapsed": false
   },
   "outputs": [
    {
     "name": "stderr",
     "output_type": "stream",
     "text": [
      "/Users/Zeeshan/Library/Enthought/Canopy_64bit/User/lib/python2.7/site-packages/pandas/core/generic.py:4702: SettingWithCopyWarning: \n",
      "A value is trying to be set on a copy of a slice from a DataFrame\n",
      "\n",
      "See the caveats in the documentation: http://pandas.pydata.org/pandas-docs/stable/indexing.html#indexing-view-versus-copy\n",
      "  self._update_inplace(new_data)\n",
      "/Users/Zeeshan/Library/Enthought/Canopy_64bit/User/lib/python2.7/site-packages/IPython/core/interactiveshell.py:2885: SettingWithCopyWarning: \n",
      "A value is trying to be set on a copy of a slice from a DataFrame\n",
      "\n",
      "See the caveats in the documentation: http://pandas.pydata.org/pandas-docs/stable/indexing.html#indexing-view-versus-copy\n",
      "  exec(code_obj, self.user_global_ns, self.user_ns)\n"
     ]
    }
   ],
   "source": [
    "custPets.ZDOGS[custPets.ZDOGS.isnull()]='U'"
   ]
  },
  {
   "cell_type": "code",
   "execution_count": 24,
   "metadata": {
    "collapsed": false
   },
   "outputs": [
    {
     "data": {
      "text/html": [
       "<div>\n",
       "<table border=\"1\" class=\"dataframe\">\n",
       "  <thead>\n",
       "    <tr style=\"text-align: right;\">\n",
       "      <th></th>\n",
       "      <th>ACCTNO</th>\n",
       "      <th>CHANNEL_ACQUISITION</th>\n",
       "      <th>ZDOGS</th>\n",
       "      <th>ZCATS</th>\n",
       "    </tr>\n",
       "  </thead>\n",
       "  <tbody>\n",
       "    <tr>\n",
       "      <th>0</th>\n",
       "      <td>WDQQLLDQL</td>\n",
       "      <td>IB</td>\n",
       "      <td>Y</td>\n",
       "      <td>U</td>\n",
       "    </tr>\n",
       "    <tr>\n",
       "      <th>1</th>\n",
       "      <td>WQWAYHYLA</td>\n",
       "      <td>RT</td>\n",
       "      <td>U</td>\n",
       "      <td>U</td>\n",
       "    </tr>\n",
       "    <tr>\n",
       "      <th>2</th>\n",
       "      <td>GSHAPLHAW</td>\n",
       "      <td>RT</td>\n",
       "      <td>U</td>\n",
       "      <td>U</td>\n",
       "    </tr>\n",
       "    <tr>\n",
       "      <th>3</th>\n",
       "      <td>PGGYDYWAD</td>\n",
       "      <td>RT</td>\n",
       "      <td>U</td>\n",
       "      <td>U</td>\n",
       "    </tr>\n",
       "    <tr>\n",
       "      <th>4</th>\n",
       "      <td>LWPSGPLLS</td>\n",
       "      <td>RT</td>\n",
       "      <td>U</td>\n",
       "      <td>U</td>\n",
       "    </tr>\n",
       "    <tr>\n",
       "      <th>5</th>\n",
       "      <td>LQGYDGSYQ</td>\n",
       "      <td>RT</td>\n",
       "      <td>U</td>\n",
       "      <td>None</td>\n",
       "    </tr>\n",
       "    <tr>\n",
       "      <th>6</th>\n",
       "      <td>WGQWQDPDA</td>\n",
       "      <td>RT</td>\n",
       "      <td>U</td>\n",
       "      <td>U</td>\n",
       "    </tr>\n",
       "    <tr>\n",
       "      <th>7</th>\n",
       "      <td>LPASPGYLS</td>\n",
       "      <td>RT</td>\n",
       "      <td>U</td>\n",
       "      <td>U</td>\n",
       "    </tr>\n",
       "    <tr>\n",
       "      <th>8</th>\n",
       "      <td>GPGDSHGL</td>\n",
       "      <td>RT</td>\n",
       "      <td>U</td>\n",
       "      <td>U</td>\n",
       "    </tr>\n",
       "    <tr>\n",
       "      <th>9</th>\n",
       "      <td>PQHSWQSDQ</td>\n",
       "      <td>RT</td>\n",
       "      <td>U</td>\n",
       "      <td>U</td>\n",
       "    </tr>\n",
       "  </tbody>\n",
       "</table>\n",
       "</div>"
      ],
      "text/plain": [
       "      ACCTNO CHANNEL_ACQUISITION ZDOGS ZCATS\n",
       "0  WDQQLLDQL                  IB     Y     U\n",
       "1  WQWAYHYLA                  RT     U     U\n",
       "2  GSHAPLHAW                  RT     U     U\n",
       "3  PGGYDYWAD                  RT     U     U\n",
       "4  LWPSGPLLS                  RT     U     U\n",
       "5  LQGYDGSYQ                  RT     U  None\n",
       "6  WGQWQDPDA                  RT     U     U\n",
       "7  LPASPGYLS                  RT     U     U\n",
       "8   GPGDSHGL                  RT     U     U\n",
       "9  PQHSWQSDQ                  RT     U     U"
      ]
     },
     "execution_count": 24,
     "metadata": {},
     "output_type": "execute_result"
    }
   ],
   "source": [
    "custPets[:10]"
   ]
  },
  {
   "cell_type": "raw",
   "metadata": {},
   "source": [
    "Ok, we fixed ZDOGS , we need to fix ZCATS the same way"
   ]
  },
  {
   "cell_type": "code",
   "execution_count": 25,
   "metadata": {
    "collapsed": false
   },
   "outputs": [],
   "source": [
    "custPets.ZCATS[custPets.ZCATS.isnull()]='U'\n"
   ]
  },
  {
   "cell_type": "raw",
   "metadata": {},
   "source": [
    "Let's now write that json file for marketing.  We'll call it mktgDogsCats.json, and we'll write it to the current default directory:"
   ]
  },
  {
   "cell_type": "code",
   "execution_count": 26,
   "metadata": {
    "collapsed": false
   },
   "outputs": [],
   "source": [
    "cdMarketingFrame2.to_json('mktgDogsCats.json',orient='index')"
   ]
  },
  {
   "cell_type": "raw",
   "metadata": {},
   "source": [
    "That was easy, right?  This file will be an ASCII by default.  It's really just one long character string.  Note that pandas can create json files with different organizations.  For example, if you set orient='columns', the variable names of your DataFrame will be values on the primary index, with Series inside each index value being a column of data for that variable.  If we wrote our cdMarketingFrame2 DataFrame out as json using orient='columns,' the json version would start with ACCTNO as the first value on the primary key:\n",
    "\n",
    "'{\"ACCTNO\":{\"0\":\"WDQQLLDQL\",\"1\":\"WQWAYHYLA\",\"2\":\"GSHAPLHAW\",\"3\":\"PGGYDYWAD\",\"4\":\"LWPSGPLLS\",\"5\":\"LQGYDGSYQ\",\"6\":\"WGQWQDPDA\",\"7\":\"LPASPGYLS\",\"8\":\"GPGDSHGL\",\"9\":\"PQHSWQSDQ\",\"10\":\"AGDDPGGQP\",\"11\":\"WDSYWHW' ...\n",
    "\n",
    "where the Series associated with ACCTNO starts with '{“0”:', the index value of the first row in cdMarketingFrame2 .  So this format is essentially a long character string written by going down each column in the DataFrame, nesting Series as dicts under the variable names as values on the primary key. \n",
    "\n",
    "Now let's do a little data type conversion just for fun.  You may remember that the ZIP variable in custZData is stored as an integer:\n"
   ]
  },
  {
   "cell_type": "code",
   "execution_count": 27,
   "metadata": {
    "collapsed": false
   },
   "outputs": [
    {
     "data": {
      "text/plain": [
       "dtype('int64')"
      ]
     },
     "execution_count": 27,
     "metadata": {},
     "output_type": "execute_result"
    }
   ],
   "source": [
    "custZData.ZIP.dtype"
   ]
  },
  {
   "cell_type": "raw",
   "metadata": {},
   "source": [
    "Zip codes are sometimes easier to work with as character variables.  And, for one thing, they are all supposed to be five digits in length.  Let's get ZIP out of custZData and examine it."
   ]
  },
  {
   "cell_type": "code",
   "execution_count": 28,
   "metadata": {
    "collapsed": false
   },
   "outputs": [
    {
     "data": {
      "text/plain": [
       "pandas.core.series.Series"
      ]
     },
     "execution_count": 28,
     "metadata": {},
     "output_type": "execute_result"
    }
   ],
   "source": [
    "ZIP=custZData.ZIP.astype('string')  #convert ZIP to character string type\n",
    "\n",
    "type(ZIP)"
   ]
  },
  {
   "cell_type": "raw",
   "metadata": {},
   "source": [
    "ZIP is now a character variable, a “string” variable."
   ]
  },
  {
   "cell_type": "code",
   "execution_count": 29,
   "metadata": {
    "collapsed": false
   },
   "outputs": [],
   "source": [
    "ZIPlen=ZIP.str.len()  # ZIPlen is a Series containing zip code string lengths"
   ]
  },
  {
   "cell_type": "code",
   "execution_count": 30,
   "metadata": {
    "collapsed": false
   },
   "outputs": [
    {
     "data": {
      "text/plain": [
       "5    30178\n",
       "1        1\n",
       "Name: ZIP, dtype: int64"
      ]
     },
     "execution_count": 30,
     "metadata": {},
     "output_type": "execute_result"
    }
   ],
   "source": [
    "ZIPlen.value_counts()  # what are the various lengths of ZIP?"
   ]
  },
  {
   "cell_type": "raw",
   "metadata": {},
   "source": [
    "It appears that there is one ZIP code with a single digit.  What is that digit?"
   ]
  },
  {
   "cell_type": "code",
   "execution_count": 31,
   "metadata": {
    "collapsed": false
   },
   "outputs": [
    {
     "data": {
      "text/plain": [
       "19337    0\n",
       "Name: ZIP, dtype: object"
      ]
     },
     "execution_count": 31,
     "metadata": {},
     "output_type": "execute_result"
    }
   ],
   "source": [
    "ZIP[(ZIPlen==1)]"
   ]
  },
  {
   "cell_type": "raw",
   "metadata": {},
   "source": [
    "The single digit is zero, and its in the row with an index value of 19337.  (You may recall that a few Sessions ago it was mentioned that missing values in ZIP, ZIP4, and ZIP9_SUPERCODE were coded as as zero.\n",
    "\n",
    "We can change that zero to a missing value in custZData:\n"
   ]
  },
  {
   "cell_type": "code",
   "execution_count": 32,
   "metadata": {
    "collapsed": false
   },
   "outputs": [],
   "source": [
    "custZData.loc[ZIPlen==1,'ZIP']=None"
   ]
  },
  {
   "cell_type": "raw",
   "metadata": {},
   "source": [
    "The zero has now been replaced by NaN"
   ]
  },
  {
   "cell_type": "code",
   "execution_count": 33,
   "metadata": {
    "collapsed": false
   },
   "outputs": [
    {
     "data": {
      "text/plain": [
       "19337   NaN\n",
       "Name: ZIP, dtype: float64"
      ]
     },
     "execution_count": 33,
     "metadata": {},
     "output_type": "execute_result"
    }
   ],
   "source": [
    "custZData.loc[ZIPlen==1,'ZIP']"
   ]
  },
  {
   "cell_type": "raw",
   "metadata": {},
   "source": [
    "Note that the data type is still 64 bit float.  We created ZIP as a Series of character strings outside of the DataFrame custZData. So ZIP in custZData remains unchanged.  We could add our Series ZIP to cust if we wanted to, after setting that zero to None in it:"
   ]
  },
  {
   "cell_type": "code",
   "execution_count": 34,
   "metadata": {
    "collapsed": false
   },
   "outputs": [],
   "source": [
    "ZIP[ZIPlen==1]=None"
   ]
  },
  {
   "cell_type": "code",
   "execution_count": 35,
   "metadata": {
    "collapsed": false
   },
   "outputs": [],
   "source": [
    "custZData['sZIP']=ZIP"
   ]
  },
  {
   "cell_type": "raw",
   "metadata": {},
   "source": [
    "We can do the same thing to ZIP4 and ZIP9_SUPERCODE, of course.  Note that ZIP4 should be 4 digits, but if it's stored as an integer, leading zeros may have disappeared from it.  Let's take a look:"
   ]
  },
  {
   "cell_type": "code",
   "execution_count": 36,
   "metadata": {
    "collapsed": false
   },
   "outputs": [
    {
     "data": {
      "text/plain": [
       "4    26332\n",
       "1     3616\n",
       "3      218\n",
       "2       13\n",
       "Name: ZIP4, dtype: int64"
      ]
     },
     "execution_count": 36,
     "metadata": {},
     "output_type": "execute_result"
    }
   ],
   "source": [
    "ZIP4=custZData.ZIP4  # make a ZIP4 series\n",
    "ZIP4=ZIP4.astype('string')  # make the series a series of character strings\n",
    "ZIP4len=ZIP4.str.len()  #  ZIP4len is a Series of string lengths\n",
    "ZIP4len.value_counts(dropna=False) # What are the different string lengths?"
   ]
  },
  {
   "cell_type": "raw",
   "metadata": {},
   "source": [
    "Egad!  There's a bunch that have fewer than 4 characters!  (We hope that what they all have are digits, right?)  Let's take a closer look at those with less than four, starting with those with only 2:"
   ]
  },
  {
   "cell_type": "code",
   "execution_count": 37,
   "metadata": {
    "collapsed": false
   },
   "outputs": [
    {
     "data": {
      "text/plain": [
       "51       24\n",
       "1633     20\n",
       "2567     45\n",
       "2803     68\n",
       "4219     66\n",
       "6012     97\n",
       "15290    33\n",
       "16916    54\n",
       "21762    70\n",
       "21855    41\n",
       "26952    10\n",
       "27157    68\n",
       "28008    84\n",
       "Name: ZIP4, dtype: object"
      ]
     },
     "execution_count": 37,
     "metadata": {},
     "output_type": "execute_result"
    }
   ],
   "source": [
    "ZIP4.loc[ZIP4len==2]"
   ]
  },
  {
   "cell_type": "raw",
   "metadata": {},
   "source": [
    "Note that the left column above has the index values for the values returned from ZIP4.  the righthand column are the ZIP4 digits.  If left-padded with zeros, these would probably be valid ZIP4 values.\n",
    "\n",
    "There are a lot of ZIP4's with a length of 1.  You'll recall that missing values were coded as zero.   So we might want to set those that are zero equal to None.  To fix these ZIP4's up to have four digits, we might proceed as follows:\n",
    "\n",
    "(1)\tPad all ZIP4's with fewer than 4 characters with zero characters on the left so that they have four characters.\n",
    "(2)\tSet ZIP4's that are four zeros,  “0000,” to None.\n",
    "\n",
    "\n",
    "\n",
    "Does this plan make sense?  Any weaknesses?  We'll work on it in the next Session's Practice.\n",
    "\n",
    "Be sure to save everything that's important.  You may as well save ZIP, ZIPlen, ZIP4, and ZIP4len, as you may find them handy in the next Session Practice.\n",
    "\n",
    "If you want to pickle them, you can put them into a DataFrame and then pickle the whole thing, like this:\n"
   ]
  },
  {
   "cell_type": "code",
   "execution_count": 38,
   "metadata": {
    "collapsed": false
   },
   "outputs": [],
   "source": [
    "zipVars=[ZIP,ZIPlen,ZIP4,ZIP4len]\t# a list of Series"
   ]
  },
  {
   "cell_type": "code",
   "execution_count": 39,
   "metadata": {
    "collapsed": false
   },
   "outputs": [],
   "source": [
    "zipFrame=pd.concat(zipVars,axis=1)\t# put Series side by side in zipFrame"
   ]
  },
  {
   "cell_type": "code",
   "execution_count": 40,
   "metadata": {
    "collapsed": false
   },
   "outputs": [
    {
     "data": {
      "text/plain": [
       "(30179, 4)"
      ]
     },
     "execution_count": 40,
     "metadata": {},
     "output_type": "execute_result"
    }
   ],
   "source": [
    "zipFrame.shape\t\t\t#dimensions, please?"
   ]
  },
  {
   "cell_type": "code",
   "execution_count": 41,
   "metadata": {
    "collapsed": false
   },
   "outputs": [
    {
     "data": {
      "text/html": [
       "<div>\n",
       "<table border=\"1\" class=\"dataframe\">\n",
       "  <thead>\n",
       "    <tr style=\"text-align: right;\">\n",
       "      <th></th>\n",
       "      <th>ZIP</th>\n",
       "      <th>ZIP</th>\n",
       "      <th>ZIP4</th>\n",
       "      <th>ZIP4</th>\n",
       "    </tr>\n",
       "  </thead>\n",
       "  <tbody>\n",
       "    <tr>\n",
       "      <th>0</th>\n",
       "      <td>60084</td>\n",
       "      <td>5</td>\n",
       "      <td>5016</td>\n",
       "      <td>4</td>\n",
       "    </tr>\n",
       "    <tr>\n",
       "      <th>1</th>\n",
       "      <td>60091</td>\n",
       "      <td>5</td>\n",
       "      <td>1750</td>\n",
       "      <td>4</td>\n",
       "    </tr>\n",
       "    <tr>\n",
       "      <th>2</th>\n",
       "      <td>60067</td>\n",
       "      <td>5</td>\n",
       "      <td>900</td>\n",
       "      <td>3</td>\n",
       "    </tr>\n",
       "    <tr>\n",
       "      <th>3</th>\n",
       "      <td>60068</td>\n",
       "      <td>5</td>\n",
       "      <td>3838</td>\n",
       "      <td>4</td>\n",
       "    </tr>\n",
       "    <tr>\n",
       "      <th>4</th>\n",
       "      <td>60090</td>\n",
       "      <td>5</td>\n",
       "      <td>3932</td>\n",
       "      <td>4</td>\n",
       "    </tr>\n",
       "  </tbody>\n",
       "</table>\n",
       "</div>"
      ],
      "text/plain": [
       "     ZIP  ZIP  ZIP4  ZIP4\n",
       "0  60084    5  5016     4\n",
       "1  60091    5  1750     4\n",
       "2  60067    5   900     3\n",
       "3  60068    5  3838     4\n",
       "4  60090    5  3932     4"
      ]
     },
     "execution_count": 41,
     "metadata": {},
     "output_type": "execute_result"
    }
   ],
   "source": [
    "zipFrame.head()"
   ]
  },
  {
   "cell_type": "raw",
   "metadata": {},
   "source": [
    "That looks ok, doesn't it?  And the columns are:"
   ]
  },
  {
   "cell_type": "code",
   "execution_count": 42,
   "metadata": {
    "collapsed": false
   },
   "outputs": [
    {
     "data": {
      "text/plain": [
       "Index([u'ZIP', u'ZIP', u'ZIP4', u'ZIP4'], dtype='object')"
      ]
     },
     "execution_count": 42,
     "metadata": {},
     "output_type": "execute_result"
    }
   ],
   "source": [
    "zipFrame.columns"
   ]
  },
  {
   "cell_type": "raw",
   "metadata": {},
   "source": [
    "So now let's pickle this Frame to your working directory:"
   ]
  },
  {
   "cell_type": "code",
   "execution_count": 43,
   "metadata": {
    "collapsed": false
   },
   "outputs": [],
   "source": [
    "zipFrame.to_pickle('pickledZIPs.p')"
   ]
  },
  {
   "cell_type": "raw",
   "metadata": {},
   "source": [
    "pandas DataFrames and Series have a pickle method that uses cPickle."
   ]
  },
  {
   "cell_type": "markdown",
   "metadata": {},
   "source": [
    "# Deliverable #1: Print a list of ZIP codes and their frequences in ZIP"
   ]
  },
  {
   "cell_type": "code",
   "execution_count": 44,
   "metadata": {
    "collapsed": false
   },
   "outputs": [
    {
     "data": {
      "text/plain": [
       "60091    3422\n",
       "60093    3152\n",
       "60062    3059\n",
       "60067    3022\n",
       "60068    2754\n",
       "60089    1990\n",
       "60056    1515\n",
       "60074    1297\n",
       "60060    1283\n",
       "60061    1197\n",
       "60076    1081\n",
       "60069     776\n",
       "60077     735\n",
       "60084     717\n",
       "60073     678\n",
       "60090     644\n",
       "60098     562\n",
       "60070     458\n",
       "60085     377\n",
       "60083     342\n",
       "60081     318\n",
       "60087     264\n",
       "60097     150\n",
       "60096     122\n",
       "60071      97\n",
       "60064      41\n",
       "60072      34\n",
       "60088      28\n",
       "60078      25\n",
       "60065      21\n",
       "60075       5\n",
       "60094       4\n",
       "60082       3\n",
       "60192       2\n",
       "60079       2\n",
       "60095       1\n",
       "Name: ZIP, dtype: int64"
      ]
     },
     "execution_count": 44,
     "metadata": {},
     "output_type": "execute_result"
    }
   ],
   "source": [
    "ZIP.value_counts()"
   ]
  },
  {
   "cell_type": "markdown",
   "metadata": {},
   "source": [
    "# Deliverable #2: how many cat enthusiasts?"
   ]
  },
  {
   "cell_type": "code",
   "execution_count": 45,
   "metadata": {
    "collapsed": false
   },
   "outputs": [
    {
     "data": {
      "text/plain": [
       "Y    1690\n",
       "Name: ZCATS, dtype: int64"
      ]
     },
     "execution_count": 45,
     "metadata": {},
     "output_type": "execute_result"
    }
   ],
   "source": [
    "CatEnthusiasts = custPets.ZCATS[custPets.ZCATS==\"Y\"]\n",
    "CatEnthusiasts.value_counts()"
   ]
  },
  {
   "cell_type": "markdown",
   "metadata": {},
   "source": [
    "# Deliverable #3: Are there any missing values in ZDOGS?"
   ]
  },
  {
   "cell_type": "code",
   "execution_count": 46,
   "metadata": {
    "collapsed": false
   },
   "outputs": [
    {
     "data": {
      "text/plain": [
       "0"
      ]
     },
     "execution_count": 46,
     "metadata": {},
     "output_type": "execute_result"
    }
   ],
   "source": [
    "custPets.ZDOGS.isnull().sum()"
   ]
  }
 ],
 "metadata": {
  "kernelspec": {
   "display_name": "Python 2",
   "language": "python",
   "name": "python2"
  },
  "language_info": {
   "codemirror_mode": {
    "name": "ipython",
    "version": 2
   },
   "file_extension": ".py",
   "mimetype": "text/x-python",
   "name": "python",
   "nbconvert_exporter": "python",
   "pygments_lexer": "ipython2",
   "version": "2.7.11"
  }
 },
 "nbformat": 4,
 "nbformat_minor": 0
}
