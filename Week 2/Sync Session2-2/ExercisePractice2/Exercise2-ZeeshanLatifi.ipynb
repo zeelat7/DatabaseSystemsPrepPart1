{
 "cells": [
  {
   "cell_type": "markdown",
   "metadata": {},
   "source": [
    "# Week #2 -  Python Practice "
   ]
  },
  {
   "cell_type": "markdown",
   "metadata": {},
   "source": [
    "###   Some Ins and Outs with Python  "
   ]
  },
  {
   "cell_type": "raw",
   "metadata": {},
   "source": [
    "\n",
    "\n",
    "There are many different kinds of data to be managed and analyzed today, and there are many ways to do it using Python.   Being able to manage and modify data isn't useful unless you can also get data into Python, and save your results from it.   Beginning with this session we're going to review techniques for input and output from Python starting with the simplest file formats and some basic Python tools.  We'll also take a first look at the pandas package.  Pandas has become very popular amongst “Pythonic” data scientists and is being used at the largest of the big data firms.  In the sessions that follow we'll consider more complicated file types and data “munging” tools and techniques.\n",
    "\n"
   ]
  },
  {
   "cell_type": "raw",
   "metadata": {},
   "source": [
    "Time (and the term) is a'wasting, so lets crank up your Canopy environment and get to work with some examples.   In what follows it's assumed that you are using the Canopy “Editor,” which includes a version of IPython, and so the command prompts will look like In '[n]:' without the single quotes.  What “n” is depends on where you are in the current session.   As I'm sure you realize by now since you have most likely use Canopy or IPython before, for many “Ins” in IPython there is an “Out” of some kind which is a result of the “In” that precedes it.  \n",
    "\n",
    "So, let's start with flat files.  A flat file is just a file that's, well, flat.  It's typically a string of characters that may include end of line markers like a newline or carriage return code.  Let's write a simple flat file out to disk by entering the following command:\n"
   ]
  },
  {
   "cell_type": "code",
   "execution_count": 1,
   "metadata": {
    "collapsed": false
   },
   "outputs": [],
   "source": [
    "outfile = open('myflatfile.txt','w')  # open to write to a text file"
   ]
  },
  {
   "cell_type": "raw",
   "metadata": {},
   "source": [
    "Note: “In [1]:” represents the command prompt in your IPython session.  Depending on what you've been doing in a session, the digit or digits you see in it will vary.  But you knew that, right?"
   ]
  },
  {
   "cell_type": "code",
   "execution_count": 2,
   "metadata": {
    "collapsed": false
   },
   "outputs": [
    {
     "data": {
      "text/plain": [
       "<open file 'myflatfile.txt', mode 'w' at 0x103a84810>"
      ]
     },
     "execution_count": 2,
     "metadata": {},
     "output_type": "execute_result"
    }
   ],
   "source": [
    "outfile # outfile is an open file 'object' in write mode.  By default it's a text, not binary, file"
   ]
  },
  {
   "cell_type": "code",
   "execution_count": 3,
   "metadata": {
    "collapsed": false
   },
   "outputs": [
    {
     "data": {
      "text/plain": [
       "file"
      ]
     },
     "execution_count": 3,
     "metadata": {},
     "output_type": "execute_result"
    }
   ],
   "source": [
    "type(outfile)"
   ]
  },
  {
   "cell_type": "raw",
   "metadata": {},
   "source": [
    "Pardon the slight digression, above.  It's purpose was to show what kind of Python 'object' outfile is.  (Everything in Python is an object, right?)  the .txt file name extension is optional.  Now, let's create a text string and then write it to outfile:"
   ]
  },
  {
   "cell_type": "code",
   "execution_count": 4,
   "metadata": {
    "collapsed": false
   },
   "outputs": [],
   "source": [
    "iLikeButter='''Slather me toast with a bargefull of butter, and crown it with a bucket of Pythonberry jam.'''\n"
   ]
  },
  {
   "cell_type": "raw",
   "metadata": {},
   "source": []
  },
  {
   "cell_type": "raw",
   "metadata": {},
   "source": [
    "This is obviously a quote from a high cholesterol data science pirate.  How many characters are in this string?  Try the function len(iLikeButter).\n"
   ]
  },
  {
   "cell_type": "code",
   "execution_count": 5,
   "metadata": {
    "collapsed": false
   },
   "outputs": [
    {
     "data": {
      "text/plain": [
       "91"
      ]
     },
     "execution_count": 5,
     "metadata": {},
     "output_type": "execute_result"
    }
   ],
   "source": [
    "len(iLikeButter)"
   ]
  },
  {
   "cell_type": "raw",
   "metadata": {},
   "source": [
    "Write the string to outfile and then close outfile:"
   ]
  },
  {
   "cell_type": "code",
   "execution_count": 6,
   "metadata": {
    "collapsed": false
   },
   "outputs": [],
   "source": [
    "outfile.write(iLikeButter)"
   ]
  },
  {
   "cell_type": "code",
   "execution_count": 7,
   "metadata": {
    "collapsed": false
   },
   "outputs": [],
   "source": [
    "outfile.close()\t\t# it's good practice to close whatever you open"
   ]
  },
  {
   "cell_type": "raw",
   "metadata": {},
   "source": []
  },
  {
   "cell_type": "code",
   "execution_count": 8,
   "metadata": {
    "collapsed": false
   },
   "outputs": [
    {
     "data": {
      "text/plain": [
       "'/Users/Zeeshan/Desktop/PREDICT 420/Week 2/Sync Session2-2/ExercisePractice2'"
      ]
     },
     "execution_count": 8,
     "metadata": {},
     "output_type": "execute_result"
    }
   ],
   "source": [
    "import os\n",
    "os.getcwd()"
   ]
  },
  {
   "cell_type": "raw",
   "metadata": {},
   "source": [
    "You'll get as a response a character string indicating what Canopy considers to be your working directory.  A third way to find out what your current directory is from IPython is to type ! (the “bang”), which escapes into your OS, followed by whatever command returns what the current directory is.  On Linux and OS X, the command is pwd.\n",
    "\n",
    "Let's read your file back in:\n"
   ]
  },
  {
   "cell_type": "code",
   "execution_count": 9,
   "metadata": {
    "collapsed": false
   },
   "outputs": [
    {
     "data": {
      "text/plain": [
       "str"
      ]
     },
     "execution_count": 9,
     "metadata": {},
     "output_type": "execute_result"
    }
   ],
   "source": [
    "infile=open('myflatfile.txt','r')\t#read as a text file. For a binary, you'd use 'rb'\n",
    "doYouWantButter=infile.read()\t#reads the file contents into a string variable\n",
    "doYouWantButter\t\t\t#this should give you he iLikeButter string value\n",
    "type(doYouWantButter)\t\t# this should give you “str”\n",
    "type(_)\t\t\t\t# should have the same result as above, right?"
   ]
  },
  {
   "cell_type": "raw",
   "metadata": {},
   "source": [
    "When used as above, what does the underscore, “_”, represent?\n",
    "\n",
    "Next, let's read a text file with more than one line.  The text file louielouie.txt has been provided to you. Pop it into the default directory for your session, the directory you identified before.  Then, open it for reading:\n"
   ]
  },
  {
   "cell_type": "code",
   "execution_count": 10,
   "metadata": {
    "collapsed": false
   },
   "outputs": [],
   "source": [
    "kingsMenLouie=open('louielouie.txt','r')\t\t#'r' since this is a text file."
   ]
  },
  {
   "cell_type": "code",
   "execution_count": 11,
   "metadata": {
    "collapsed": false
   },
   "outputs": [],
   "source": [
    "louielouie=kingsMenLouie.read() \t# take a look at louielouie by typing its name"
   ]
  },
  {
   "cell_type": "code",
   "execution_count": 12,
   "metadata": {
    "collapsed": false
   },
   "outputs": [
    {
     "data": {
      "text/plain": [
       "str"
      ]
     },
     "execution_count": 12,
     "metadata": {},
     "output_type": "execute_result"
    }
   ],
   "source": [
    "type(louielouie)"
   ]
  },
  {
   "cell_type": "raw",
   "metadata": {},
   "source": [
    "And, then you could split the lines in louielouie into a list of lines as strings:"
   ]
  },
  {
   "cell_type": "code",
   "execution_count": 13,
   "metadata": {
    "collapsed": false
   },
   "outputs": [],
   "source": [
    "louielist=louielouie.split()\t\t# lists are your Python Friend. (One of them, at least)"
   ]
  },
  {
   "cell_type": "code",
   "execution_count": 14,
   "metadata": {
    "collapsed": false
   },
   "outputs": [
    {
     "data": {
      "text/plain": [
       "list"
      ]
     },
     "execution_count": 14,
     "metadata": {},
     "output_type": "execute_result"
    }
   ],
   "source": [
    "type(louielist)"
   ]
  },
  {
   "cell_type": "raw",
   "metadata": {},
   "source": [
    "You could also read this file line by line with readline().  For example, to get the file contents into louie a string variable (and assuming that the file has been closed and opened again after the foregoing):"
   ]
  },
  {
   "cell_type": "code",
   "execution_count": 15,
   "metadata": {
    "collapsed": false
   },
   "outputs": [],
   "source": [
    "louie=\"\"\t# string var where we're going to put the lines from the file"
   ]
  },
  {
   "cell_type": "code",
   "execution_count": 16,
   "metadata": {
    "collapsed": false
   },
   "outputs": [],
   "source": [
    "while True:\n",
    "    line=kingsMenLouie.readline()\n",
    "    if not line:\n",
    "        break\n",
    "    louie+=line\n"
   ]
  },
  {
   "cell_type": "raw",
   "metadata": {},
   "source": [
    "Give the above code a try to see what you get.  Are louie and louielouie different?  Try the command louie==louielouie.  \n",
    "\n",
    "Python usually does a good job closing files that have been opened, but it's good practice to do so explicitly whenever possible.  This is expecially true when you are writing data out to a  file, as explicitly closing a file written to forces any remaining write operation to finish.  Did you close all the files you opened, above?\n",
    "\n",
    "A simple way to close a file you've written to is as follows.  Suppose you want to write the character string iLikeButter to a file called greaseitup.txt in your current directory.  If you do:\n"
   ]
  },
  {
   "cell_type": "code",
   "execution_count": 17,
   "metadata": {
    "collapsed": false
   },
   "outputs": [
    {
     "data": {
      "text/plain": [
       "str"
      ]
     },
     "execution_count": 17,
     "metadata": {},
     "output_type": "execute_result"
    }
   ],
   "source": [
    "type(louie)"
   ]
  },
  {
   "cell_type": "code",
   "execution_count": 18,
   "metadata": {
    "collapsed": false
   },
   "outputs": [],
   "source": [
    "with open('greaseitup.txt','wt') as butterOut: \n",
    "    butterOut.write(iLikeButter)\n"
   ]
  },
  {
   "cell_type": "raw",
   "metadata": {},
   "source": [
    "the file will be closed automatically for you when your write operation is completed.  Note the 'wt' in the open statement.  't' is for text, but it's optional.  if you include a 'b' instead, you'll have a binary file instead of a text file.\n",
    "\n",
    "The procedures for reading and writing binary files using open, .read, etc. are for the most part the same as for text files, and so we're not going to spend time here on binary file input and output.  We're shortly going to move on to reading and writing csv files, but before that let's take a look at the classic method for “serializing” (storing with permanency) python objects called pickling.  \n"
   ]
  },
  {
   "cell_type": "raw",
   "metadata": {},
   "source": [
    "A pickle file includes one or more Python objects that can be read back into Python that has a Python-specific, environment independent format.  Two pickling packages in Python 2.7 are pickle and cPickle.  cPickle is the faster of the two, and is the default algorithm in Python 3.  So let's tinker with it here.  First, import cPickle:"
   ]
  },
  {
   "cell_type": "code",
   "execution_count": 19,
   "metadata": {
    "collapsed": false
   },
   "outputs": [],
   "source": [
    "import cPickle as pickle\t\t# we'll just call it what it is, whether dill or sweet"
   ]
  },
  {
   "cell_type": "raw",
   "metadata": {},
   "source": [
    "Now let's pickle our louielist from above in a file in the current working directory."
   ]
  },
  {
   "cell_type": "code",
   "execution_count": 20,
   "metadata": {
    "collapsed": false
   },
   "outputs": [],
   "source": [
    "pickle.dump(louielist,open('louielist.p','wb'))"
   ]
  },
  {
   "cell_type": "raw",
   "metadata": {},
   "source": [
    "The above writes a binary pickle file.  You can read the file back into Python like:"
   ]
  },
  {
   "cell_type": "code",
   "execution_count": 21,
   "metadata": {
    "collapsed": false
   },
   "outputs": [],
   "source": [
    "louielsBack=pickle.load(open('louielist.p','rb'))"
   ]
  },
  {
   "cell_type": "raw",
   "metadata": {},
   "source": [
    "Did you get louielist back unchanged?  Try louielist == louielsBack from the command prompt.\n",
    "\n",
    "We're going to move ahead to consider csv files, but to do so we're going to make use of the pandas package.  So let's import pandas first, and then look at a simple example of a very useful panda object, the DataFrame.\n"
   ]
  },
  {
   "cell_type": "code",
   "execution_count": 22,
   "metadata": {
    "collapsed": false
   },
   "outputs": [],
   "source": [
    "import pandas as pd\t# panda's nickname is pd\n",
    "\n",
    "import numpy as np\t# numpy as np\n",
    "\n",
    "from pandas import DataFrame, Series\t    # for convenience\n"
   ]
  },
  {
   "cell_type": "raw",
   "metadata": {},
   "source": [
    "My guess is that you have used the numpy package before in your work or in a previous course.   DataFrame and Series are very handy pandas data structures that can do yeoman work for you in your data management efforts.\n",
    "\n",
    "By way of introduction, let's first read a little pickled pandas DataFrame.  Put the file littleDF2.p in your default directory (or somewhere you can find it from in Canopy), and do:\n"
   ]
  },
  {
   "cell_type": "code",
   "execution_count": 23,
   "metadata": {
    "collapsed": false
   },
   "outputs": [],
   "source": [
    "littleDF=pickle.load(open('littleDF2.p','rb'))\t# if it's in you default dir\n"
   ]
  },
  {
   "cell_type": "code",
   "execution_count": 24,
   "metadata": {
    "collapsed": false
   },
   "outputs": [
    {
     "data": {
      "text/plain": [
       "pandas.core.frame.DataFrame"
      ]
     },
     "execution_count": 24,
     "metadata": {},
     "output_type": "execute_result"
    }
   ],
   "source": [
    "type(littleDF)"
   ]
  },
  {
   "cell_type": "raw",
   "metadata": {},
   "source": [
    "\n",
    "If you then ask littleDF to type itself out:\n"
   ]
  },
  {
   "cell_type": "code",
   "execution_count": 25,
   "metadata": {
    "collapsed": false
   },
   "outputs": [
    {
     "data": {
      "text/html": [
       "<div>\n",
       "<table border=\"1\" class=\"dataframe\">\n",
       "  <thead>\n",
       "    <tr style=\"text-align: right;\">\n",
       "      <th></th>\n",
       "      <th>var1</th>\n",
       "      <th>var2</th>\n",
       "      <th>var3</th>\n",
       "      <th>var4</th>\n",
       "    </tr>\n",
       "  </thead>\n",
       "  <tbody>\n",
       "    <tr>\n",
       "      <th>obs1</th>\n",
       "      <td>-1.228611</td>\n",
       "      <td>0.309656</td>\n",
       "      <td>0.963380</td>\n",
       "      <td>0.392899</td>\n",
       "    </tr>\n",
       "    <tr>\n",
       "      <th>obs2</th>\n",
       "      <td>-0.560940</td>\n",
       "      <td>-0.962692</td>\n",
       "      <td>0.042021</td>\n",
       "      <td>-0.289916</td>\n",
       "    </tr>\n",
       "    <tr>\n",
       "      <th>obs3</th>\n",
       "      <td>0.781060</td>\n",
       "      <td>1.140318</td>\n",
       "      <td>0.621084</td>\n",
       "      <td>0.682519</td>\n",
       "    </tr>\n",
       "    <tr>\n",
       "      <th>obs4</th>\n",
       "      <td>-0.092004</td>\n",
       "      <td>-1.178608</td>\n",
       "      <td>1.854705</td>\n",
       "      <td>1.011108</td>\n",
       "    </tr>\n",
       "    <tr>\n",
       "      <th>obs5</th>\n",
       "      <td>0.041939</td>\n",
       "      <td>1.290624</td>\n",
       "      <td>-0.313368</td>\n",
       "      <td>-0.749832</td>\n",
       "    </tr>\n",
       "    <tr>\n",
       "      <th>obs6</th>\n",
       "      <td>-0.156378</td>\n",
       "      <td>0.670368</td>\n",
       "      <td>-0.415693</td>\n",
       "      <td>-0.813018</td>\n",
       "    </tr>\n",
       "  </tbody>\n",
       "</table>\n",
       "</div>"
      ],
      "text/plain": [
       "          var1      var2      var3      var4\n",
       "obs1 -1.228611  0.309656  0.963380  0.392899\n",
       "obs2 -0.560940 -0.962692  0.042021 -0.289916\n",
       "obs3  0.781060  1.140318  0.621084  0.682519\n",
       "obs4 -0.092004 -1.178608  1.854705  1.011108\n",
       "obs5  0.041939  1.290624 -0.313368 -0.749832\n",
       "obs6 -0.156378  0.670368 -0.415693 -0.813018"
      ]
     },
     "execution_count": 25,
     "metadata": {},
     "output_type": "execute_result"
    }
   ],
   "source": [
    "\n",
    "In [26]: littleDF\n"
   ]
  },
  {
   "cell_type": "raw",
   "metadata": {},
   "source": [
    "you'll get a pretty table-like graphical thing with labelled rows and columns.  And if you do:"
   ]
  },
  {
   "cell_type": "code",
   "execution_count": 26,
   "metadata": {
    "collapsed": false
   },
   "outputs": [
    {
     "name": "stdout",
     "output_type": "stream",
     "text": [
      "          var1      var2      var3      var4\n",
      "obs1 -1.228611  0.309656  0.963380  0.392899\n",
      "obs2 -0.560940 -0.962692  0.042021 -0.289916\n",
      "obs3  0.781060  1.140318  0.621084  0.682519\n",
      "obs4 -0.092004 -1.178608  1.854705  1.011108\n",
      "obs5  0.041939  1.290624 -0.313368 -0.749832\n",
      "obs6 -0.156378  0.670368 -0.415693 -0.813018\n"
     ]
    }
   ],
   "source": [
    "print littleDF"
   ]
  },
  {
   "cell_type": "raw",
   "metadata": {},
   "source": [
    "littleDF is a pandas DataFrame:"
   ]
  },
  {
   "cell_type": "code",
   "execution_count": 27,
   "metadata": {
    "collapsed": false
   },
   "outputs": [
    {
     "data": {
      "text/plain": [
       "pandas.core.frame.DataFrame"
      ]
     },
     "execution_count": 27,
     "metadata": {},
     "output_type": "execute_result"
    }
   ],
   "source": [
    "type(littleDF)"
   ]
  },
  {
   "cell_type": "raw",
   "metadata": {},
   "source": [
    "A pandas DataFrame is a table-like data structure with columns that can be of different data types, and that has both row and column indices.  The row index of littleDF is in the leftmost column, above, with index values of obs1 through obs6.  The column index is across the top, var1 through var4.  A DataFrame can have more complicated, hierarchical or “nested' indices.\n",
    "\n",
    "A Series is like one column of a DataFrame. It's a kind of vector that has an associated index.  A DataFrame can be thought of as a set of Series in the columns that share a single index, the row index.\n",
    "\n",
    "littleDF is a pandas DataFrame, and DataFrames are Python objects.   So, littleDF has attributes, and lots of them.  To see them you can use the IPython tab completion feature:\n"
   ]
  },
  {
   "cell_type": "raw",
   "metadata": {},
   "source": [
    "littleDF.<tab>"
   ]
  },
  {
   "cell_type": "raw",
   "metadata": {},
   "source": [
    "You'll ses a long list of different attributes (methods and data) that littleDF has.  A second <tab> should allow you to scroll through the attributes.   try littleDF.values to see the data, and littleDF.describe() to get summary statistics for the variables in the columns littleDF.columns.\n",
    "\n",
    "DataFrame methods include different ways of converting to a different kind of data structure.  For example, you can convert littleDF into a dict with :\n"
   ]
  },
  {
   "cell_type": "code",
   "execution_count": 28,
   "metadata": {
    "collapsed": false
   },
   "outputs": [
    {
     "data": {
      "text/plain": [
       "[{'var1': -1.2286113016207898,\n",
       "  'var2': 0.30965619163770047,\n",
       "  'var3': 0.96338021151319131,\n",
       "  'var4': 0.39289876033736942},\n",
       " {'var1': -0.56094030295428543,\n",
       "  'var2': -0.96269174995277529,\n",
       "  'var3': 0.042020936959569238,\n",
       "  'var4': -0.28991632733800704},\n",
       " {'var1': 0.78106045003984292,\n",
       "  'var2': 1.1403182932997518,\n",
       "  'var3': 0.62108363926714805,\n",
       "  'var4': 0.68251944983814727},\n",
       " {'var1': -0.092004064802186564,\n",
       "  'var2': -1.178607577083874,\n",
       "  'var3': 1.8547052279781786,\n",
       "  'var4': 1.0111083188039576},\n",
       " {'var1': 0.041938987884194652,\n",
       "  'var2': 1.2906243535240169,\n",
       "  'var3': -0.31336832091555672,\n",
       "  'var4': -0.74983162877031817},\n",
       " {'var1': -0.15637751256752078,\n",
       "  'var2': 0.67036800193846668,\n",
       "  'var3': -0.41569296335492445,\n",
       "  'var4': -0.81301815241617248}]"
      ]
     },
     "execution_count": 28,
     "metadata": {},
     "output_type": "execute_result"
    }
   ],
   "source": [
    "littleDF.to_dict('records')"
   ]
  },
  {
   "cell_type": "raw",
   "metadata": {},
   "source": [
    "or into csv:"
   ]
  },
  {
   "cell_type": "code",
   "execution_count": 29,
   "metadata": {
    "collapsed": false
   },
   "outputs": [
    {
     "data": {
      "text/plain": [
       "',var1,var2,var3,var4\\nobs1,-1.22861130162,0.309656191638,0.963380211513,0.392898760337\\nobs2,-0.560940302954,-0.962691749953,0.0420209369596,-0.289916327338\\nobs3,0.78106045004,1.1403182933,0.621083639267,0.682519449838\\nobs4,-0.0920040648022,-1.17860757708,1.85470522798,1.0111083188\\nobs5,0.0419389878842,1.29062435352,-0.313368320916,-0.74983162877\\nobs6,-0.156377512568,0.670368001938,-0.415692963355,-0.813018152416\\n'"
      ]
     },
     "execution_count": 29,
     "metadata": {},
     "output_type": "execute_result"
    }
   ],
   "source": [
    "littleDF.to_csv()"
   ]
  },
  {
   "cell_type": "raw",
   "metadata": {},
   "source": [
    "or into several other formats.  Note that all these methods have options set by arguments when calling them.  To see what's available, do:"
   ]
  },
  {
   "cell_type": "raw",
   "metadata": {},
   "source": [
    "littleDF.to_<tab>"
   ]
  },
  {
   "cell_type": "raw",
   "metadata": {},
   "source": [
    "Not surprisingly, you can covert other kinds of data structures into a DataFrame.  Take a look:\n"
   ]
  },
  {
   "cell_type": "raw",
   "metadata": {},
   "source": [
    "littleDF.from_<tab>"
   ]
  },
  {
   "cell_type": "raw",
   "metadata": {},
   "source": [
    "Next, let's try writing out littleDF to a csv file called “littleDFcsv.csv:”"
   ]
  },
  {
   "cell_type": "code",
   "execution_count": 30,
   "metadata": {
    "collapsed": false
   },
   "outputs": [],
   "source": [
    "csvOutFile=open('littleDFcsv.csv','wt')\t# this will be a text file\n",
    "\n",
    "csvOutFile.write(littleDF.to_csv())\n",
    "\n",
    "csvOutFile.close()\n"
   ]
  },
  {
   "cell_type": "raw",
   "metadata": {},
   "source": [
    "Now, take a look at the file you written using the editor of your choice.  You can use the editor in Canopy, of course.  Does your file have a header record?  Are character values enclosed in quotes?\n",
    "\n",
    "DataFrames and Series have many useful attributes and features, some of which we'll explore in upcoming exercises.  But now let's try reading a less trivial csv file into a DataFrame.  The file is xyzcust10.csv, and it should be available to you on Canvas.  Take a look at it with your favorite text editor.  Then, put it in a place you can find it from Canvas, and input it into a DataFrame:\n"
   ]
  },
  {
   "cell_type": "code",
   "execution_count": 31,
   "metadata": {
    "collapsed": false,
    "scrolled": true
   },
   "outputs": [],
   "source": [
    "myvacation = r'/Users/Zeeshan/Desktop/PREDICT 420/Week 1/Sync Session1-2/ExercisePractice1/VacationHistory.csv'\n",
    "\n",
    "#df = pd.DataFrame(data = myvacation, columns=['CityNames', 'StateNames', 'DaysSpent', 'YearVisited'])\n",
    "#df = pd.read_csv(myvacation, names=['CityNames' ,'StateNames', 'DaysSpent', 'YearVisited'])\n",
    "df = pd.read_csv(myvacation, header = None)\n",
    "df.columns = ['CityNames', 'StateNames', 'DaysSpent', 'YearVisited']\n",
    "\n",
    "\n",
    "\n",
    "#myvacation=pd.read_csv('VacationHistory.csv')"
   ]
  },
  {
   "cell_type": "code",
   "execution_count": 32,
   "metadata": {
    "collapsed": false
   },
   "outputs": [
    {
     "data": {
      "text/plain": [
       "pandas.core.frame.DataFrame"
      ]
     },
     "execution_count": 32,
     "metadata": {},
     "output_type": "execute_result"
    }
   ],
   "source": [
    "type(df)"
   ]
  },
  {
   "cell_type": "raw",
   "metadata": {},
   "source": [
    "The file has 10 variables in it.  The rows, or records, are XYZ customers.  How many records are in xyzcust10?\n",
    "\n",
    "What types of variables are in the columns of xyzcust10? To find out:\n"
   ]
  },
  {
   "cell_type": "code",
   "execution_count": 33,
   "metadata": {
    "collapsed": false
   },
   "outputs": [
    {
     "data": {
      "text/plain": [
       "CityNames      object\n",
       "StateNames     object\n",
       "DaysSpent       int64\n",
       "YearVisited     int64\n",
       "dtype: object"
      ]
     },
     "execution_count": 33,
     "metadata": {},
     "output_type": "execute_result"
    }
   ],
   "source": [
    "df.dtypes"
   ]
  },
  {
   "cell_type": "raw",
   "metadata": {},
   "source": [
    "Look at the first and last rows in xyzcust10:"
   ]
  },
  {
   "cell_type": "code",
   "execution_count": 34,
   "metadata": {
    "collapsed": false
   },
   "outputs": [
    {
     "data": {
      "text/html": [
       "<div>\n",
       "<table border=\"1\" class=\"dataframe\">\n",
       "  <thead>\n",
       "    <tr style=\"text-align: right;\">\n",
       "      <th></th>\n",
       "      <th>CityNames</th>\n",
       "      <th>StateNames</th>\n",
       "      <th>DaysSpent</th>\n",
       "      <th>YearVisited</th>\n",
       "    </tr>\n",
       "  </thead>\n",
       "  <tbody>\n",
       "    <tr>\n",
       "      <th>0</th>\n",
       "      <td>Atlanta</td>\n",
       "      <td>GA</td>\n",
       "      <td>4</td>\n",
       "      <td>2017</td>\n",
       "    </tr>\n",
       "    <tr>\n",
       "      <th>1</th>\n",
       "      <td>Houston</td>\n",
       "      <td>TX</td>\n",
       "      <td>5</td>\n",
       "      <td>2013</td>\n",
       "    </tr>\n",
       "    <tr>\n",
       "      <th>2</th>\n",
       "      <td>Columbus</td>\n",
       "      <td>OH</td>\n",
       "      <td>3</td>\n",
       "      <td>2016</td>\n",
       "    </tr>\n",
       "    <tr>\n",
       "      <th>3</th>\n",
       "      <td>SanFrancisco</td>\n",
       "      <td>CA</td>\n",
       "      <td>7</td>\n",
       "      <td>2016</td>\n",
       "    </tr>\n",
       "    <tr>\n",
       "      <th>4</th>\n",
       "      <td>LosAngeles</td>\n",
       "      <td>CA</td>\n",
       "      <td>2</td>\n",
       "      <td>2010</td>\n",
       "    </tr>\n",
       "  </tbody>\n",
       "</table>\n",
       "</div>"
      ],
      "text/plain": [
       "      CityNames StateNames  DaysSpent  YearVisited\n",
       "0       Atlanta         GA          4         2017\n",
       "1       Houston         TX          5         2013\n",
       "2      Columbus         OH          3         2016\n",
       "3  SanFrancisco         CA          7         2016\n",
       "4    LosAngeles         CA          2         2010"
      ]
     },
     "execution_count": 34,
     "metadata": {},
     "output_type": "execute_result"
    }
   ],
   "source": [
    "df.head()"
   ]
  },
  {
   "cell_type": "code",
   "execution_count": 35,
   "metadata": {
    "collapsed": false
   },
   "outputs": [
    {
     "data": {
      "text/html": [
       "<div>\n",
       "<table border=\"1\" class=\"dataframe\">\n",
       "  <thead>\n",
       "    <tr style=\"text-align: right;\">\n",
       "      <th></th>\n",
       "      <th>CityNames</th>\n",
       "      <th>StateNames</th>\n",
       "      <th>DaysSpent</th>\n",
       "      <th>YearVisited</th>\n",
       "    </tr>\n",
       "  </thead>\n",
       "  <tbody>\n",
       "    <tr>\n",
       "      <th>0</th>\n",
       "      <td>Atlanta</td>\n",
       "      <td>GA</td>\n",
       "      <td>4</td>\n",
       "      <td>2017</td>\n",
       "    </tr>\n",
       "    <tr>\n",
       "      <th>1</th>\n",
       "      <td>Houston</td>\n",
       "      <td>TX</td>\n",
       "      <td>5</td>\n",
       "      <td>2013</td>\n",
       "    </tr>\n",
       "    <tr>\n",
       "      <th>2</th>\n",
       "      <td>Columbus</td>\n",
       "      <td>OH</td>\n",
       "      <td>3</td>\n",
       "      <td>2016</td>\n",
       "    </tr>\n",
       "    <tr>\n",
       "      <th>3</th>\n",
       "      <td>SanFrancisco</td>\n",
       "      <td>CA</td>\n",
       "      <td>7</td>\n",
       "      <td>2016</td>\n",
       "    </tr>\n",
       "    <tr>\n",
       "      <th>4</th>\n",
       "      <td>LosAngeles</td>\n",
       "      <td>CA</td>\n",
       "      <td>2</td>\n",
       "      <td>2010</td>\n",
       "    </tr>\n",
       "  </tbody>\n",
       "</table>\n",
       "</div>"
      ],
      "text/plain": [
       "      CityNames StateNames  DaysSpent  YearVisited\n",
       "0       Atlanta         GA          4         2017\n",
       "1       Houston         TX          5         2013\n",
       "2      Columbus         OH          3         2016\n",
       "3  SanFrancisco         CA          7         2016\n",
       "4    LosAngeles         CA          2         2010"
      ]
     },
     "execution_count": 35,
     "metadata": {},
     "output_type": "execute_result"
    }
   ],
   "source": [
    "df.tail()"
   ]
  },
  {
   "cell_type": "raw",
   "metadata": {},
   "source": [
    "Note that in this file missing values for ZIP, ZIP4, and the nine digit ZIP are represented with zeros, “0's.”  The ZIPs could really also be coded as strings, rather than as integers, couldn't they?  Also, it looks like there might be two nine digit ZIP code variables.  Are they the same? \n",
    "\n",
    "That is are the values in these two variables the same for every row of data?  How would you locate the rows in xyzcust10 that have a zero for ZIP or for ZIP4?  We'll see in the next session's Python Practice.\n",
    "\n",
    "Last but not least, be sure to pickle your xyzcust10 Data Frame so you can use it in the next Practice.\n",
    "\n"
   ]
  },
  {
   "cell_type": "markdown",
   "metadata": {},
   "source": [
    "# Deliverable :"
   ]
  },
  {
   "cell_type": "markdown",
   "metadata": {},
   "source": [
    "## Update the pd.read_csv('xyzcust10.csv') to use the VactaionHistory.csv file you created in Exercise #1 and run this script "
   ]
  },
  {
   "cell_type": "code",
   "execution_count": 36,
   "metadata": {
    "collapsed": false
   },
   "outputs": [
    {
     "data": {
      "text/html": [
       "<div>\n",
       "<table border=\"1\" class=\"dataframe\">\n",
       "  <thead>\n",
       "    <tr style=\"text-align: right;\">\n",
       "      <th></th>\n",
       "      <th>CityNames</th>\n",
       "      <th>StateNames</th>\n",
       "      <th>DaysSpent</th>\n",
       "      <th>YearVisited</th>\n",
       "    </tr>\n",
       "  </thead>\n",
       "  <tbody>\n",
       "    <tr>\n",
       "      <th>0</th>\n",
       "      <td>Atlanta</td>\n",
       "      <td>GA</td>\n",
       "      <td>4</td>\n",
       "      <td>2017</td>\n",
       "    </tr>\n",
       "    <tr>\n",
       "      <th>1</th>\n",
       "      <td>Houston</td>\n",
       "      <td>TX</td>\n",
       "      <td>5</td>\n",
       "      <td>2013</td>\n",
       "    </tr>\n",
       "    <tr>\n",
       "      <th>2</th>\n",
       "      <td>Columbus</td>\n",
       "      <td>OH</td>\n",
       "      <td>3</td>\n",
       "      <td>2016</td>\n",
       "    </tr>\n",
       "    <tr>\n",
       "      <th>3</th>\n",
       "      <td>SanFrancisco</td>\n",
       "      <td>CA</td>\n",
       "      <td>7</td>\n",
       "      <td>2016</td>\n",
       "    </tr>\n",
       "    <tr>\n",
       "      <th>4</th>\n",
       "      <td>LosAngeles</td>\n",
       "      <td>CA</td>\n",
       "      <td>2</td>\n",
       "      <td>2010</td>\n",
       "    </tr>\n",
       "  </tbody>\n",
       "</table>\n",
       "</div>"
      ],
      "text/plain": [
       "      CityNames StateNames  DaysSpent  YearVisited\n",
       "0       Atlanta         GA          4         2017\n",
       "1       Houston         TX          5         2013\n",
       "2      Columbus         OH          3         2016\n",
       "3  SanFrancisco         CA          7         2016\n",
       "4    LosAngeles         CA          2         2010"
      ]
     },
     "execution_count": 36,
     "metadata": {},
     "output_type": "execute_result"
    }
   ],
   "source": [
    "df"
   ]
  },
  {
   "cell_type": "code",
   "execution_count": null,
   "metadata": {
    "collapsed": true
   },
   "outputs": [],
   "source": []
  }
 ],
 "metadata": {
  "kernelspec": {
   "display_name": "Python 2",
   "language": "python",
   "name": "python2"
  },
  "language_info": {
   "codemirror_mode": {
    "name": "ipython",
    "version": 2
   },
   "file_extension": ".py",
   "mimetype": "text/x-python",
   "name": "python",
   "nbconvert_exporter": "python",
   "pygments_lexer": "ipython2",
   "version": "2.7.11"
  }
 },
 "nbformat": 4,
 "nbformat_minor": 0
}
