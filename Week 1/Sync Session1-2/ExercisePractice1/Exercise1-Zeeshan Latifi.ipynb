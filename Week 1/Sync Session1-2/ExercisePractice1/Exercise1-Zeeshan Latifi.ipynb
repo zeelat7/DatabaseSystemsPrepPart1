{
 "cells": [
  {
   "cell_type": "markdown",
   "metadata": {},
   "source": [
    "# Exercise Practice #1 "
   ]
  },
  {
   "cell_type": "raw",
   "metadata": {},
   "source": [
    "This exercise will present a simple walkthrough of the Python script structure and what could be done when using Python for the purposes of data analysis and data preparation. Python is an interpreted programming lanaguage that has many packages designed primarly for data analysis and prepartion.\n",
    "\n",
    "\n",
    "Data munging/wrangling is made simpler when using Python compared to R. And Python has many packages that can help you do the task, following is the list of the major Python packages that will be used in this class:\n",
    "\n",
    "1. Pandas\n",
    "2. numpy\n",
    "3. cPickle\n",
    "4. SQLAlchemy\n",
    "5. PyMongo"
   ]
  },
  {
   "cell_type": "code",
   "execution_count": 1,
   "metadata": {
    "collapsed": false
   },
   "outputs": [],
   "source": [
    "# General syntax to import specific functions in a library: \n",
    "##from (library) import (specific library function)\n",
    "\n",
    "from pandas import DataFrame, read_csv"
   ]
  },
  {
   "cell_type": "code",
   "execution_count": 2,
   "metadata": {
    "collapsed": false
   },
   "outputs": [],
   "source": [
    "#General syntax to import a library but no functions: \n",
    "##import (library) as (give the library a nickname/alias)\n",
    "\n",
    "import matplotlib.pyplot as plt\n",
    "import pandas as pd \n",
    "import sys # needed to determine Python version number"
   ]
  },
  {
   "cell_type": "code",
   "execution_count": 3,
   "metadata": {
    "collapsed": false
   },
   "outputs": [
    {
     "name": "stdout",
     "output_type": "stream",
     "text": [
      "Python version 2.7.11 | 64-bit | (default, Jun 11 2016, 03:41:56) \n",
      "[GCC 4.2.1 Compatible Apple LLVM 6.0 (clang-600.0.57)]\n",
      "Pandas version 0.19.0\n"
     ]
    }
   ],
   "source": [
    "print 'Python version ' + sys.version\n",
    "print 'Pandas version ' + pd.__version__"
   ]
  },
  {
   "cell_type": "code",
   "execution_count": 4,
   "metadata": {
    "collapsed": false
   },
   "outputs": [
    {
     "data": {
      "text/html": [
       "<div>\n",
       "<table border=\"1\" class=\"dataframe\">\n",
       "  <thead>\n",
       "    <tr style=\"text-align: right;\">\n",
       "      <th></th>\n",
       "      <th>CityNames</th>\n",
       "      <th>StateNames</th>\n",
       "      <th>DaysSpent</th>\n",
       "      <th>YearVisited</th>\n",
       "    </tr>\n",
       "  </thead>\n",
       "  <tbody>\n",
       "    <tr>\n",
       "      <th>0</th>\n",
       "      <td>Atlanta</td>\n",
       "      <td>GA</td>\n",
       "      <td>4</td>\n",
       "      <td>2017</td>\n",
       "    </tr>\n",
       "    <tr>\n",
       "      <th>1</th>\n",
       "      <td>Houston</td>\n",
       "      <td>TX</td>\n",
       "      <td>5</td>\n",
       "      <td>2013</td>\n",
       "    </tr>\n",
       "    <tr>\n",
       "      <th>2</th>\n",
       "      <td>Columbus</td>\n",
       "      <td>OH</td>\n",
       "      <td>3</td>\n",
       "      <td>2016</td>\n",
       "    </tr>\n",
       "    <tr>\n",
       "      <th>3</th>\n",
       "      <td>SanFrancisco</td>\n",
       "      <td>CA</td>\n",
       "      <td>7</td>\n",
       "      <td>2016</td>\n",
       "    </tr>\n",
       "    <tr>\n",
       "      <th>4</th>\n",
       "      <td>LosAngeles</td>\n",
       "      <td>CA</td>\n",
       "      <td>2</td>\n",
       "      <td>2010</td>\n",
       "    </tr>\n",
       "  </tbody>\n",
       "</table>\n",
       "</div>"
      ],
      "text/plain": [
       "      CityNames StateNames  DaysSpent  YearVisited\n",
       "0       Atlanta         GA          4         2017\n",
       "1       Houston         TX          5         2013\n",
       "2      Columbus         OH          3         2016\n",
       "3  SanFrancisco         CA          7         2016\n",
       "4    LosAngeles         CA          2         2010"
      ]
     },
     "execution_count": 4,
     "metadata": {},
     "output_type": "execute_result"
    }
   ],
   "source": [
    "################################################################\n",
    "#############             1. Create Data           #############\n",
    "################################################################\n",
    "\n",
    "CityNames = ['Atlanta','Houston','Columbus','SanFrancisco','LosAngeles']\n",
    "StateNames = ['GA','TX','OH','CA','CA']\n",
    "DaysSpent = [4, 5, 3, 7, 2]\n",
    "YearVisited  = [2017, 2013, 2016, 2016, 2010]\n",
    "\n",
    "VacationDataSet = zip(CityNames ,StateNames, DaysSpent, YearVisited)\n",
    "\n",
    "df = pd.DataFrame(data = VacationDataSet, columns=['CityNames', 'StateNames', 'DaysSpent', 'YearVisited'])\n",
    "\n",
    "\n",
    "#Sanity test: what is in the dataframe object\n",
    "df"
   ]
  },
  {
   "cell_type": "code",
   "execution_count": 5,
   "metadata": {
    "collapsed": false
   },
   "outputs": [],
   "source": [
    "################################################################\n",
    "#############             2. Write Data to CSV File  ###########\n",
    "################################################################\n",
    "\n",
    "df.to_csv('VacationHistory.csv',index=False,header=False)"
   ]
  },
  {
   "cell_type": "code",
   "execution_count": 6,
   "metadata": {
    "collapsed": false
   },
   "outputs": [],
   "source": [
    "################################################################\n",
    "#############             3. Read Data from CSV File ###########\n",
    "################################################################\n",
    "#Location = r'C:\\bader\\nu\\420\\ExercisePractices\\ExercisePractice1\\VacationHistory.csv'\n",
    "Location = r'/Users/Zeeshan/Desktop/PREDICT 420/Sync Session1-2/ExercisePractice1/VacationHistory.csv'\n",
    "df = pd.read_csv(Location, names=['CityNames' ,'StateNames', 'DaysSpent', 'YearVisited'])"
   ]
  },
  {
   "cell_type": "code",
   "execution_count": 7,
   "metadata": {
    "collapsed": false
   },
   "outputs": [
    {
     "data": {
      "text/plain": [
       "CityNames      object\n",
       "StateNames     object\n",
       "DaysSpent       int64\n",
       "YearVisited     int64\n",
       "dtype: object"
      ]
     },
     "execution_count": 7,
     "metadata": {},
     "output_type": "execute_result"
    }
   ],
   "source": [
    "################################################################\n",
    "#############             4. Prepare Data from       ###########\n",
    "# The data we have consists of 'CityNames' ,'StateNames', 'DaysSpent', 'YearVisited' ####\n",
    "# We already know that we have 5 records and none of the records are missing (non-null values). ###\n",
    "################################################################\n",
    "\n",
    "df.dtypes"
   ]
  },
  {
   "cell_type": "code",
   "execution_count": 8,
   "metadata": {
    "collapsed": false
   },
   "outputs": [
    {
     "data": {
      "text/html": [
       "<div>\n",
       "<table border=\"1\" class=\"dataframe\">\n",
       "  <thead>\n",
       "    <tr style=\"text-align: right;\">\n",
       "      <th></th>\n",
       "      <th>CityNames</th>\n",
       "      <th>StateNames</th>\n",
       "      <th>DaysSpent</th>\n",
       "      <th>YearVisited</th>\n",
       "    </tr>\n",
       "  </thead>\n",
       "  <tbody>\n",
       "    <tr>\n",
       "      <th>0</th>\n",
       "      <td>Atlanta</td>\n",
       "      <td>GA</td>\n",
       "      <td>4</td>\n",
       "      <td>2017</td>\n",
       "    </tr>\n",
       "    <tr>\n",
       "      <th>1</th>\n",
       "      <td>Houston</td>\n",
       "      <td>TX</td>\n",
       "      <td>5</td>\n",
       "      <td>2013</td>\n",
       "    </tr>\n",
       "    <tr>\n",
       "      <th>2</th>\n",
       "      <td>Columbus</td>\n",
       "      <td>OH</td>\n",
       "      <td>3</td>\n",
       "      <td>2016</td>\n",
       "    </tr>\n",
       "    <tr>\n",
       "      <th>3</th>\n",
       "      <td>SanFrancisco</td>\n",
       "      <td>CA</td>\n",
       "      <td>7</td>\n",
       "      <td>2016</td>\n",
       "    </tr>\n",
       "    <tr>\n",
       "      <th>4</th>\n",
       "      <td>LosAngeles</td>\n",
       "      <td>CA</td>\n",
       "      <td>2</td>\n",
       "      <td>2010</td>\n",
       "    </tr>\n",
       "  </tbody>\n",
       "</table>\n",
       "</div>"
      ],
      "text/plain": [
       "      CityNames StateNames  DaysSpent  YearVisited\n",
       "0       Atlanta         GA          4         2017\n",
       "1       Houston         TX          5         2013\n",
       "2      Columbus         OH          3         2016\n",
       "3  SanFrancisco         CA          7         2016\n",
       "4    LosAngeles         CA          2         2010"
      ]
     },
     "execution_count": 8,
     "metadata": {},
     "output_type": "execute_result"
    }
   ],
   "source": [
    "df"
   ]
  },
  {
   "cell_type": "code",
   "execution_count": 9,
   "metadata": {
    "collapsed": false
   },
   "outputs": [
    {
     "name": "stderr",
     "output_type": "stream",
     "text": [
      "/Users/Zeeshan/Library/Enthought/Canopy_64bit/User/lib/python2.7/site-packages/ipykernel/__main__.py:5: FutureWarning: sort(columns=....) is deprecated, use sort_values(by=.....)\n"
     ]
    },
    {
     "data": {
      "text/html": [
       "<div>\n",
       "<table border=\"1\" class=\"dataframe\">\n",
       "  <thead>\n",
       "    <tr style=\"text-align: right;\">\n",
       "      <th></th>\n",
       "      <th>CityNames</th>\n",
       "      <th>StateNames</th>\n",
       "      <th>DaysSpent</th>\n",
       "      <th>YearVisited</th>\n",
       "    </tr>\n",
       "  </thead>\n",
       "  <tbody>\n",
       "    <tr>\n",
       "      <th>0</th>\n",
       "      <td>Atlanta</td>\n",
       "      <td>GA</td>\n",
       "      <td>4</td>\n",
       "      <td>2017</td>\n",
       "    </tr>\n",
       "    <tr>\n",
       "      <th>2</th>\n",
       "      <td>Columbus</td>\n",
       "      <td>OH</td>\n",
       "      <td>3</td>\n",
       "      <td>2016</td>\n",
       "    </tr>\n",
       "    <tr>\n",
       "      <th>3</th>\n",
       "      <td>SanFrancisco</td>\n",
       "      <td>CA</td>\n",
       "      <td>7</td>\n",
       "      <td>2016</td>\n",
       "    </tr>\n",
       "    <tr>\n",
       "      <th>1</th>\n",
       "      <td>Houston</td>\n",
       "      <td>TX</td>\n",
       "      <td>5</td>\n",
       "      <td>2013</td>\n",
       "    </tr>\n",
       "    <tr>\n",
       "      <th>4</th>\n",
       "      <td>LosAngeles</td>\n",
       "      <td>CA</td>\n",
       "      <td>2</td>\n",
       "      <td>2010</td>\n",
       "    </tr>\n",
       "  </tbody>\n",
       "</table>\n",
       "</div>"
      ],
      "text/plain": [
       "      CityNames StateNames  DaysSpent  YearVisited\n",
       "0       Atlanta         GA          4         2017\n",
       "2      Columbus         OH          3         2016\n",
       "3  SanFrancisco         CA          7         2016\n",
       "1       Houston         TX          5         2013\n",
       "4    LosAngeles         CA          2         2010"
      ]
     },
     "execution_count": 9,
     "metadata": {},
     "output_type": "execute_result"
    }
   ],
   "source": [
    "################################################################\n",
    "#############             5. Analyze Data            ###########\n",
    "################################################################\n",
    "\n",
    "Sorted = df.sort(['YearVisited'], ascending=False)\n",
    "Sorted"
   ]
  },
  {
   "cell_type": "code",
   "execution_count": 10,
   "metadata": {
    "collapsed": false
   },
   "outputs": [
    {
     "data": {
      "text/html": [
       "<div>\n",
       "<table border=\"1\" class=\"dataframe\">\n",
       "  <thead>\n",
       "    <tr style=\"text-align: right;\">\n",
       "      <th></th>\n",
       "      <th>CityNames</th>\n",
       "      <th>StateNames</th>\n",
       "      <th>DaysSpent</th>\n",
       "      <th>YearVisited</th>\n",
       "    </tr>\n",
       "  </thead>\n",
       "  <tbody>\n",
       "    <tr>\n",
       "      <th>0</th>\n",
       "      <td>Atlanta</td>\n",
       "      <td>GA</td>\n",
       "      <td>4</td>\n",
       "      <td>2017</td>\n",
       "    </tr>\n",
       "    <tr>\n",
       "      <th>2</th>\n",
       "      <td>Columbus</td>\n",
       "      <td>OH</td>\n",
       "      <td>3</td>\n",
       "      <td>2016</td>\n",
       "    </tr>\n",
       "  </tbody>\n",
       "</table>\n",
       "</div>"
      ],
      "text/plain": [
       "  CityNames StateNames  DaysSpent  YearVisited\n",
       "0   Atlanta         GA          4         2017\n",
       "2  Columbus         OH          3         2016"
      ]
     },
     "execution_count": 10,
     "metadata": {},
     "output_type": "execute_result"
    }
   ],
   "source": [
    "Sorted.head(2)"
   ]
  },
  {
   "cell_type": "code",
   "execution_count": 11,
   "metadata": {
    "collapsed": false
   },
   "outputs": [
    {
     "name": "stderr",
     "output_type": "stream",
     "text": [
      "/Users/Zeeshan/Library/Enthought/Canopy_64bit/User/lib/python2.7/site-packages/ipykernel/__main__.py:1: FutureWarning: sort(columns=....) is deprecated, use sort_values(by=.....)\n",
      "  if __name__ == '__main__':\n"
     ]
    },
    {
     "data": {
      "text/html": [
       "<div>\n",
       "<table border=\"1\" class=\"dataframe\">\n",
       "  <thead>\n",
       "    <tr style=\"text-align: right;\">\n",
       "      <th></th>\n",
       "      <th>CityNames</th>\n",
       "      <th>StateNames</th>\n",
       "      <th>DaysSpent</th>\n",
       "      <th>YearVisited</th>\n",
       "    </tr>\n",
       "  </thead>\n",
       "  <tbody>\n",
       "    <tr>\n",
       "      <th>3</th>\n",
       "      <td>SanFrancisco</td>\n",
       "      <td>CA</td>\n",
       "      <td>7</td>\n",
       "      <td>2016</td>\n",
       "    </tr>\n",
       "    <tr>\n",
       "      <th>1</th>\n",
       "      <td>Houston</td>\n",
       "      <td>TX</td>\n",
       "      <td>5</td>\n",
       "      <td>2013</td>\n",
       "    </tr>\n",
       "    <tr>\n",
       "      <th>0</th>\n",
       "      <td>Atlanta</td>\n",
       "      <td>GA</td>\n",
       "      <td>4</td>\n",
       "      <td>2017</td>\n",
       "    </tr>\n",
       "    <tr>\n",
       "      <th>2</th>\n",
       "      <td>Columbus</td>\n",
       "      <td>OH</td>\n",
       "      <td>3</td>\n",
       "      <td>2016</td>\n",
       "    </tr>\n",
       "    <tr>\n",
       "      <th>4</th>\n",
       "      <td>LosAngeles</td>\n",
       "      <td>CA</td>\n",
       "      <td>2</td>\n",
       "      <td>2010</td>\n",
       "    </tr>\n",
       "  </tbody>\n",
       "</table>\n",
       "</div>"
      ],
      "text/plain": [
       "      CityNames StateNames  DaysSpent  YearVisited\n",
       "3  SanFrancisco         CA          7         2016\n",
       "1       Houston         TX          5         2013\n",
       "0       Atlanta         GA          4         2017\n",
       "2      Columbus         OH          3         2016\n",
       "4    LosAngeles         CA          2         2010"
      ]
     },
     "execution_count": 11,
     "metadata": {},
     "output_type": "execute_result"
    }
   ],
   "source": [
    "Sorted = df.sort(['DaysSpent'], ascending=False)\n",
    "Sorted"
   ]
  },
  {
   "cell_type": "code",
   "execution_count": 12,
   "metadata": {
    "collapsed": false
   },
   "outputs": [
    {
     "data": {
      "text/html": [
       "<div>\n",
       "<table border=\"1\" class=\"dataframe\">\n",
       "  <thead>\n",
       "    <tr style=\"text-align: right;\">\n",
       "      <th></th>\n",
       "      <th>CityNames</th>\n",
       "      <th>StateNames</th>\n",
       "      <th>DaysSpent</th>\n",
       "      <th>YearVisited</th>\n",
       "    </tr>\n",
       "  </thead>\n",
       "  <tbody>\n",
       "    <tr>\n",
       "      <th>2</th>\n",
       "      <td>Columbus</td>\n",
       "      <td>OH</td>\n",
       "      <td>3</td>\n",
       "      <td>2016</td>\n",
       "    </tr>\n",
       "    <tr>\n",
       "      <th>4</th>\n",
       "      <td>LosAngeles</td>\n",
       "      <td>CA</td>\n",
       "      <td>2</td>\n",
       "      <td>2010</td>\n",
       "    </tr>\n",
       "  </tbody>\n",
       "</table>\n",
       "</div>"
      ],
      "text/plain": [
       "    CityNames StateNames  DaysSpent  YearVisited\n",
       "2    Columbus         OH          3         2016\n",
       "4  LosAngeles         CA          2         2010"
      ]
     },
     "execution_count": 12,
     "metadata": {},
     "output_type": "execute_result"
    }
   ],
   "source": [
    "Sorted.tail(2)"
   ]
  },
  {
   "cell_type": "code",
   "execution_count": 13,
   "metadata": {
    "collapsed": false
   },
   "outputs": [
    {
     "data": {
      "text/plain": [
       "7"
      ]
     },
     "execution_count": 13,
     "metadata": {},
     "output_type": "execute_result"
    }
   ],
   "source": [
    "df['DaysSpent'].max()"
   ]
  },
  {
   "cell_type": "code",
   "execution_count": 14,
   "metadata": {
    "collapsed": false
   },
   "outputs": [
    {
     "data": {
      "image/png": "[encoded data removed]",
      "text/plain": [
       "<matplotlib.figure.Figure at 0x112674b50>"
      ]
     },
     "metadata": {},
     "output_type": "display_data"
    }
   ],
   "source": [
    "################################################################\n",
    "#############             6. Present Data            ###########\n",
    "################################################################\n",
    "\n",
    "%matplotlib inline\n",
    "\n",
    "\n",
    "df['DaysSpent'].plot()\n",
    "\n",
    "\n",
    "ax = plt.gca()\n",
    "ax.grid(True)\n",
    "ax.get_yaxis().get_major_formatter().set_useOffset(False)\n"
   ]
  },
  {
   "cell_type": "code",
   "execution_count": 15,
   "metadata": {
    "collapsed": false
   },
   "outputs": [
    {
     "data": {
      "image/png": "[encoded data removed]",
      "text/plain": [
       "<matplotlib.figure.Figure at 0x115a4f650>"
      ]
     },
     "metadata": {},
     "output_type": "display_data"
    }
   ],
   "source": [
    "df['YearVisited'].plot()\n",
    "\n",
    "ax = plt.gca()\n",
    "ax.grid(True)\n",
    "ax.get_yaxis().get_major_formatter().set_useOffset(False)\n"
   ]
  },
  {
   "cell_type": "markdown",
   "metadata": {},
   "source": [
    "# Deliverable :  "
   ]
  },
  {
   "cell_type": "raw",
   "metadata": {},
   "source": [
    "Update and run this script to include YOUR PERSONAL vactaion history; update the script to inlcude your personal  list of cities, states, days spent, and year visited \n"
   ]
  },
  {
   "cell_type": "code",
   "execution_count": null,
   "metadata": {
    "collapsed": false
   },
   "outputs": [],
   "source": []
  }
 ],
 "metadata": {
  "kernelspec": {
   "display_name": "Python 2",
   "language": "python",
   "name": "python2"
  },
  "language_info": {
   "codemirror_mode": {
    "name": "ipython",
    "version": 2
   },
   "file_extension": ".py",
   "mimetype": "text/x-python",
   "name": "python",
   "nbconvert_exporter": "python",
   "pygments_lexer": "ipython2",
   "version": "2.7.11"
  }
 },
 "nbformat": 4,
 "nbformat_minor": 0
}
